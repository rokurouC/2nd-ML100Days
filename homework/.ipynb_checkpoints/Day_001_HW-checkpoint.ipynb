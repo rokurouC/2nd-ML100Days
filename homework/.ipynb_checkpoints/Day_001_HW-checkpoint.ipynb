{
 "cells": [
  {
   "cell_type": "markdown",
   "metadata": {},
   "source": [
    "作業一：\n",
    "Sportradar Baseball dataset(https://www.kaggle.com/sportradar/baseball)\n",
    "1. 你選的這組資料為何重要\n",
    "\n",
    "一場比賽的第一分就有如首殺般地影響士氣，如何主動而有效地在一場比賽中得到兩隊的第一分，探討各種因素影響的比重。\n",
    "\n",
    "2. 資料從何而來 (tips: 譬如提供者是誰、以什麼方式蒐集)\n",
    "\n",
    "資料提供者為Sportradar(https://www.sportradar.com/)，紀錄2016年MLB每個play的資料。\n",
    "\n",
    "3. 蒐集而來的資料型態為何\n",
    "\n",
    "表格\n",
    "\n",
    "4. 這組資料想解決的問題如何評估\n",
    "\n",
    "首先過濾每場比賽得到第一分以前的所有play的資料，接著過濾掉經由失誤取分的情形，亦即只留下經由安打得分的資料。\n",
    "假設每個play都乃至於教練的決策，那麼得分就只關乎到三個角色：投手、跑壘者、打擊者，列出以下探討的因素：\n",
    "1.投打對戰打擊率\n",
    "2.右打剋左投、左打剋右投\n",
    "3.該分所影響之所有的打者之棒序\n",
    "4.跑壘者盜壘\n",
    "5.打者上壘率\n",
    "6.零出局使用觸擊短打上壘\n",
    "7.一出局使用觸擊短打推進\n",
    "8.該分所影響之所有的打者之長打率\n",
    "9.該分所影響之所有的打者之打擊率\n",
    "10.打者保送率\n",
    "11.針對打者熱區攻擊\n",
    "12.針對投手球種攻擊\n",
    "等等...\n",
    "總括這些因素，歸類統計出每個因素之比重，得以讓教練可以有效使用此結果做出以數據為基礎最有效的第一分取得方式。\n",
    "\n"
   ]
  },
  {
   "cell_type": "markdown",
   "metadata": {},
   "source": [
    "作業二：\n",
    "1. 你選的這組資料為何重要\n",
    "為了達成公司與司機整體收入之最大化，我們將目標放在總里程上，我們假設影響總里程最重要的因素乃至何時何地。\n",
    "2. 資料從何而來 (tips: 譬如提供者是誰、以什麼方式蒐集)\n",
    "使用手機讓司機在乘客上下車的時候回傳資料已收集上下車之地點, 時間, 總里程。\n",
    "3. 蒐集而來的資料型態為何\n",
    "csv\n",
    "4. 這組資料想解決的問題如何評估\n",
    "以方圓幾公里為變數，統計每個單位區域在每個時間點所佔總里程比，可得出每個時段的熱區，再加以配置司機人力。"
   ]
  },
  {
   "cell_type": "markdown",
   "metadata": {},
   "source": [
    "## 練習時間\n",
    "#### 請寫一個函式用來計算 Mean Square Error\n",
    "$ MSE = \\frac{1}{n}\\sum_{i=1}^{n}{(Y_i - \\hat{Y}_i)^2} $\n",
    "\n",
    "### Hint: [如何取平方](https://googoodesign.gitbooks.io/-ezpython/unit-1.html)"
   ]
  },
  {
   "cell_type": "code",
   "execution_count": null,
   "metadata": {},
   "outputs": [],
   "source": [
    "import numpy as np\n",
    "import matplotlib.pyplot as plt"
   ]
  },
  {
   "cell_type": "code",
   "execution_count": null,
   "metadata": {},
   "outputs": [],
   "source": [
    "def mean_absolute_error(y, yp):\n",
    "    \"\"\"\n",
    "    計算 MAE\n",
    "    Args:\n",
    "        - y: 實際值\n",
    "        - yp: 預測值\n",
    "    Return:\n",
    "        - mae: MAE\n",
    "    \"\"\"\n",
    "    mae = sum(abs(y - yp)) / len(y)\n",
    "    return mae"
   ]
  },
  {
   "cell_type": "code",
   "execution_count": null,
   "metadata": {},
   "outputs": [],
   "source": [
    "def mean_squared_error(y, yp):\n",
    "    \"\"\"\n",
    "    計算 MSE\n",
    "    Args:\n",
    "        - y: 實際值\n",
    "        - yp: 預測值\n",
    "    Return:\n",
    "        - mse: MSE\n",
    "    \"\"\"\n",
    "    mse = sum((y-yp)**2) / len(y)\n",
    "    return mse\n"
   ]
  },
  {
   "cell_type": "code",
   "execution_count": null,
   "metadata": {},
   "outputs": [],
   "source": [
    "w = 3\n",
    "b = 0.5\n",
    "\n",
    "x_lin = np.linspace(0, 100, 101)\n",
    "\n",
    "y = (x_lin + np.random.randn(101) * 5) * w + b\n",
    "\n",
    "plt.plot(x_lin, y, 'b.', label = 'data points')\n",
    "plt.title(\"Assume we have data points\")\n",
    "plt.legend(loc = 2)\n",
    "plt.show()"
   ]
  },
  {
   "cell_type": "code",
   "execution_count": null,
   "metadata": {},
   "outputs": [],
   "source": [
    "y_hat = x_lin * w + b\n",
    "plt.plot(x_lin, y, 'b.', label = 'data')\n",
    "plt.plot(x_lin, y_hat, 'r-', label = 'prediction')\n",
    "plt.title(\"Assume we have data points (And the prediction)\")\n",
    "plt.legend(loc = 2)\n",
    "plt.show()"
   ]
  },
  {
   "cell_type": "code",
   "execution_count": null,
   "metadata": {},
   "outputs": [],
   "source": [
    "# 執行 Function, 確認有沒有正常執行\n",
    "MSE = mean_squared_error(y, y_hat)\n",
    "MAE = mean_absolute_error(y, y_hat)\n",
    "print(\"The Mean squared error is %.3f\" % (MSE))\n",
    "print(\"The Mean absolute error is %.3f\" % (MAE))"
   ]
  }
 ],
 "metadata": {
  "anaconda-cloud": {},
  "kernelspec": {
   "display_name": "Python 3",
   "language": "python",
   "name": "python3"
  },
  "language_info": {
   "codemirror_mode": {
    "name": "ipython",
    "version": 3
   },
   "file_extension": ".py",
   "mimetype": "text/x-python",
   "name": "python",
   "nbconvert_exporter": "python",
   "pygments_lexer": "ipython3",
   "version": "3.7.3"
  }
 },
 "nbformat": 4,
 "nbformat_minor": 1
}
