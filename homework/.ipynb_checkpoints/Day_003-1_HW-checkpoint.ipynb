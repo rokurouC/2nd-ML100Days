{
 "cells": [
  {
   "cell_type": "markdown",
   "metadata": {},
   "source": [
    "## 練習時間\n",
    "在小量的資料上，我們用眼睛就可以看得出來程式碼是否有跑出我們理想中的結果\n",
    "\n",
    "請嘗試想像一個你需要的資料結構 (裡面的值可以是隨機的)，然後用上述的方法把它變成 pandas DataFrame\n",
    "\n",
    "#### Ex: 想像一個 dataframe 有兩個欄位，一個是國家，一個是人口，求人口數最多的國家\n",
    "\n",
    "### Hints: [隨機產生數值](https://blog.csdn.net/christianashannon/article/details/78867204)"
   ]
  },
  {
   "cell_type": "code",
   "execution_count": 17,
   "metadata": {},
   "outputs": [],
   "source": [
    "import pandas as pd\n",
    "import numpy as np"
   ]
  },
  {
   "cell_type": "code",
   "execution_count": 18,
   "metadata": {},
   "outputs": [
    {
     "name": "stdout",
     "output_type": "stream",
     "text": [
      "    國家         人口\n",
      "0   美國  328703972\n",
      "1   台灣   23589192\n",
      "2   澳洲   25220000\n",
      "3   日本  126220000\n",
      "4  紐西蘭    4844200\n",
      "5   英國   66175000\n",
      "6  愛爾蘭    4729200\n",
      "7   泰國   68881000\n",
      "8  菲律賓  106450000\n",
      "美國\n"
     ]
    }
   ],
   "source": [
    "data = {'國家': ['美國', '台灣', '澳洲', '日本', '紐西蘭', '英國', '愛爾蘭', '泰國', '菲律賓' ],\n",
    "        '人口':[328703972, 23589192, 25220000, 126220000, 4844200, 66175000, 4729200, 68881000, 106450000] }\n",
    "data = pd.DataFrame(data)\n",
    "print(data)\n",
    "max_pop_country = data['國家'][data['人口'].idxmax()]\n",
    "print(max_pop_country)"
   ]
  },
  {
   "cell_type": "code",
   "execution_count": null,
   "metadata": {},
   "outputs": [],
   "source": []
  }
 ],
 "metadata": {
  "kernelspec": {
   "display_name": "Python 3",
   "language": "python",
   "name": "python3"
  },
  "language_info": {
   "codemirror_mode": {
    "name": "ipython",
    "version": 3
   },
   "file_extension": ".py",
   "mimetype": "text/x-python",
   "name": "python",
   "nbconvert_exporter": "python",
   "pygments_lexer": "ipython3",
   "version": "3.7.3"
  }
 },
 "nbformat": 4,
 "nbformat_minor": 2
}
